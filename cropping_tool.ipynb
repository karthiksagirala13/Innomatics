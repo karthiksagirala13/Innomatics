{
 "cells": [
  {
   "cell_type": "code",
   "execution_count": 2,
   "id": "e3bacb1c-3f4e-4929-99b2-0ece3b4e94d6",
   "metadata": {},
   "outputs": [],
   "source": [
    "import cv2\n",
    "import numpy as np\n",
    "import pandas as pd\n",
    "import os"
   ]
  },
  {
   "cell_type": "markdown",
   "id": "d9ff95b3-69e9-4954-8eb7-188dc320b8a1",
   "metadata": {},
   "source": [
    "## Capturing Hand patterns from Live stream by using cropped images on bounding box"
   ]
  },
  {
   "cell_type": "markdown",
   "id": "8ba51d1f-53dc-4c4b-ad68-c1283a17aa37",
   "metadata": {},
   "source": [
    "### Creating the main folder"
   ]
  },
  {
   "cell_type": "code",
   "execution_count": 53,
   "id": "22dc95cf-7883-4029-8357-2055bc17daa1",
   "metadata": {},
   "outputs": [],
   "source": [
    "os.mkdir(r\"C:\\Users\\hp\\OneDrive\\Desktop\\ML\\Week 2\\Hand pattern\")"
   ]
  },
  {
   "cell_type": "markdown",
   "id": "7d3a699e-ad2e-4bd3-9b8b-c7c8f94bb7c2",
   "metadata": {},
   "source": [
    "### Creating the three different folders for each hand pattern"
   ]
  },
  {
   "cell_type": "code",
   "execution_count": 55,
   "id": "b6e40e5d-18ff-4c19-a004-a2d42972e21b",
   "metadata": {},
   "outputs": [],
   "source": [
    "for folder in [\"one\", \"two\", \"three\"]:\n",
    "    os.mkdir(r\"C:\\Users\\hp\\OneDrive\\Desktop\\ML\\Week 2\\Hand pattern\\{}\".format(folder))"
   ]
  },
  {
   "cell_type": "markdown",
   "id": "8892b9d8-9dc3-4994-9bee-d7486820d8fb",
   "metadata": {},
   "source": [
    "### Main code"
   ]
  },
  {
   "cell_type": "code",
   "execution_count": 2,
   "id": "7ae9ed80-93b2-48fe-9c47-732e4facde6b",
   "metadata": {},
   "outputs": [],
   "source": [
    "vid = cv2.VideoCapture(0)\n",
    "\n",
    "one = 1\n",
    "two = 1\n",
    "three = 1\n",
    "\n",
    "while True:\n",
    "    res, img = vid.read()\n",
    "    crop_img = img[100 : 380, 300 : 500] # Cropping a part  from the live stream for capturing the pattern\n",
    "    cv2.rectangle(img, (300, 100), (500, 380), (0, 0, 255), 3)\n",
    "    cv2.putText(img, \"Hand Sign Capture\", (20, 30), cv2.FONT_HERSHEY_COMPLEX, 1, (255, 0, 0), 2)\n",
    "    cv2.imshow(\"live stream\", img)\n",
    "    cv2.imshow(\"cropped stream\", crop_img)\n",
    "    if cv2.waitKey(1) & 255 == ord(\"w\"):\n",
    "        cv2.imwrite(r\"C:\\Users\\hp\\OneDrive\\Desktop\\ML\\Week 2\\Hand pattern\\one\\{}.jpg\".format(one), crop_img)\n",
    "        print(\"One saved\")\n",
    "        one += 1\n",
    "    elif cv2.waitKey(1) & 255 == ord(\"e\"):\n",
    "        cv2.imwrite(r\"C:\\Users\\hp\\OneDrive\\Desktop\\ML\\Week 2\\Hand pattern\\two\\{}.jpg\".format(two), crop_img)\n",
    "        print(\"Two saved\")\n",
    "        two += 1\n",
    "    elif cv2.waitKey(1) & 255 == ord(\"r\"):\n",
    "        cv2.imwrite(r\"C:\\Users\\hp\\OneDrive\\Desktop\\ML\\Week 2\\Hand pattern\\three\\{}.jpg\".format(three), crop_img)\n",
    "        print(\"Three saved\")\n",
    "        three += 1\n",
    "    else:\n",
    "        if cv2.waitKey(1) & 255 == ord(\"q\"):\n",
    "            break\n",
    "            \n",
    "cv2.destroyAllWindows()"
   ]
  }
 ],
 "metadata": {
  "kernelspec": {
   "display_name": "Python 3 (ipykernel)",
   "language": "python",
   "name": "python3"
  },
  "language_info": {
   "codemirror_mode": {
    "name": "ipython",
    "version": 3
   },
   "file_extension": ".py",
   "mimetype": "text/x-python",
   "name": "python",
   "nbconvert_exporter": "python",
   "pygments_lexer": "ipython3",
   "version": "3.11.4"
  }
 },
 "nbformat": 4,
 "nbformat_minor": 5
}
