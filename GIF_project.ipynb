{
 "cells": [
  {
   "cell_type": "code",
   "execution_count": 1,
   "id": "7fb9397f-501f-407d-a2d2-c07de5feecea",
   "metadata": {},
   "outputs": [],
   "source": [
    "import cv2\n",
    "import numpy as np"
   ]
  },
  {
   "cell_type": "code",
   "execution_count": 39,
   "id": "73d67de9-05eb-4be3-a075-8d22c1f5a084",
   "metadata": {},
   "outputs": [
    {
     "name": "stdout",
     "output_type": "stream",
     "text": [
      "Image captured\n"
     ]
    }
   ],
   "source": [
    "img = np.full((500, 500, 3), (235, 206, 135), dtype=np.uint8)\n",
    "\n",
    "cv2.circle(img, (250, 250), 100, (0, 215, 255), -1)\n",
    "\n",
    "cv2.putText(img, \n",
    "        \"KEEP SMILING!...\", \n",
    "        (160, 100), \n",
    "        cv2.FONT_HERSHEY_SIMPLEX, \n",
    "        0.8,  # Font scale\n",
    "        255,  # Color (white)\n",
    "        1,    # Thickness\n",
    "        cv2.LINE_AA\n",
    "    )\n",
    "\n",
    "\n",
    "x1, y1 = -1, -1\n",
    "drawing = False\n",
    "\n",
    "def mouse_tracking(events, x, y, flags, param):\n",
    "    global x1, y1\n",
    "    if events == cv2.EVENT_LBUTTONDOWN:  # Left mouse button pressed\n",
    "        x1, y1 = x, y\n",
    "    elif events == cv2.EVENT_LBUTTONUP:\n",
    "        drawing = False\n",
    "        cv2.line(img, (x1, y1), (x, y), (0, 0, 0), 5)  # Draw black line\n",
    "    elif events == cv2.EVENT_MOUSEMOVE and flags == cv2.EVENT_FLAG_LBUTTON:  # Dragging\n",
    "        cv2.line(img, (x1, y1), (x, y), (0, 0, 0), 7)\n",
    "        x1, y1 = x, y\n",
    "    \n",
    "        \n",
    "cv2.namedWindow(\"GIF\")\n",
    "cv2.setMouseCallback(\"GIF\", mouse_tracking)\n",
    "i = 3\n",
    "while True:\n",
    "    cv2.imshow(\"GIF\", img)\n",
    "    key = cv2.waitKey(1) & 255\n",
    "    if key == ord(\"s\"):\n",
    "        cv2.imwrite(fr\"C:\\Users\\hp\\OneDrive\\Desktop\\ML\\Project 1 Animation & GIF\\GIF images\\{i}.jpg\", img)\n",
    "        print(\"Image captured\")\n",
    "    elif key == ord(\"q\"): \n",
    "        break\n",
    "cv2.destroyAllWindows()"
   ]
  },
  {
   "cell_type": "code",
   "execution_count": null,
   "id": "092f78ab-f3ba-45c0-8be3-a616790b69c0",
   "metadata": {},
   "outputs": [],
   "source": [
    "#Continuous display loop\n",
    "while True:\n",
    "    for image in range(1,4):\n",
    "        img = cv2.imread(fr\"C:\\Users\\hp\\OneDrive\\Desktop\\ML\\Project 1 Animation & GIF\\GIF images\\{image}.jpg\")\n",
    "        if img is not None:\n",
    "            cv2.imshow(\"Continuous Animation\", img)\n",
    "            if cv2.waitKey(200) & 255 == ord('q'): # Capture key press\n",
    "                break# Exit loop on 'q'\n",
    "cv2.destroyAllWindows()"
   ]
  },
  {
   "cell_type": "markdown",
   "id": "4f36c4eb-1654-4f89-9b71-f46cd04ef09a",
   "metadata": {},
   "source": [
    "### Saving Video to a Path"
   ]
  },
  {
   "cell_type": "code",
   "execution_count": 4,
   "id": "5105b891-983f-4f6d-ae5a-1c3a8563290a",
   "metadata": {},
   "outputs": [
    {
     "name": "stdout",
     "output_type": "stream",
     "text": [
      "Video saved to C:\\Users\\hp\\OneDrive\\Desktop\\ML\\Project 1 Animation & GIF\\GIF images\\GIF_video_output.avi\n"
     ]
    }
   ],
   "source": [
    "#Video properties\n",
    "output_path = r\"C:\\Users\\hp\\OneDrive\\Desktop\\ML\\Project 1 Animation & GIF\\GIF images\\GIF_video_output.avi\"\n",
    "frame_width = 640  # Set based on your image dimensions\n",
    "frame_height = 480  # Set based on your image dimensions\n",
    "frame_rate = 1  # 1 frame per second (based on your cv2.waitKey(1000))\n",
    "\n",
    "#Define the codec and create VideoWriter object\n",
    "fourcc = cv2.VideoWriter_fourcc(*'XVID')  # Choose codec (e.g., 'XVID' for .avi format)\n",
    "out = cv2.VideoWriter(output_path, fourcc, frame_rate, (frame_width, frame_height))\n",
    "\n",
    "for image in range(1, 4):\n",
    "    img = cv2.imread(fr\"C:\\Users\\hp\\OneDrive\\Desktop\\ML\\Project 1 Animation & GIF\\GIF images\\{image}.jpg\")\n",
    "\n",
    "    if img is None:\n",
    "        print(f\"Image not found, skipping.\")\n",
    "        continue\n",
    "\n",
    "    # Resize the image if necessary (to match frame dimensions)\n",
    "    img = cv2.resize(img, (frame_width, frame_height))\n",
    "\n",
    "#Display the image\n",
    "    cv2.imshow(\"animations\", img)\n",
    "    cv2.waitKey(1000)\n",
    "\n",
    "#Write the frame to the video\n",
    "    out.write(img)\n",
    "\n",
    "#Release the VideoWriter and close all OpenCV windows\n",
    "out.release()\n",
    "cv2.destroyAllWindows()\n",
    "\n",
    "print(f\"Video saved to {output_path}\")"
   ]
  },
  {
   "cell_type": "code",
   "execution_count": null,
   "id": "afc7d202-810d-42d6-aead-736e08b7ec87",
   "metadata": {},
   "outputs": [],
   "source": []
  }
 ],
 "metadata": {
  "kernelspec": {
   "display_name": "Python 3 (ipykernel)",
   "language": "python",
   "name": "python3"
  },
  "language_info": {
   "codemirror_mode": {
    "name": "ipython",
    "version": 3
   },
   "file_extension": ".py",
   "mimetype": "text/x-python",
   "name": "python",
   "nbconvert_exporter": "python",
   "pygments_lexer": "ipython3",
   "version": "3.11.4"
  }
 },
 "nbformat": 4,
 "nbformat_minor": 5
}
